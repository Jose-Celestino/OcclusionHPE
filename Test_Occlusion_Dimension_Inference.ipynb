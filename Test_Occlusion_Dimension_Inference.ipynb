{
 "cells": [
  {
   "cell_type": "code",
   "execution_count": 2,
   "metadata": {},
   "outputs": [
    {
     "name": "stdout",
     "output_type": "stream",
     "text": [
      "done\n"
     ]
    }
   ],
   "source": [
    "import natsort, glob\n",
    "\n",
    "import numpy as np\n",
    "\n",
    "import torch, datasets\n",
    "import torch.nn as nn\n",
    "from torch.autograd import Variable\n",
    "from torchvision import transforms\n",
    "import torch.backends.cudnn as cudnn\n",
    "import torchvision\n",
    "\n",
    "import LantentNet\n",
    "cudnn.enabled = True\n",
    "\n",
    "batch_size = 1\n",
    "gpu = 0\n",
    "\n",
    "\n",
    "model = LantentNet.LantentNet(torchvision.models.resnet.Bottleneck, [3, 4, 6, 3], 66)\n",
    "saved_state_dict = torch.load('Latent_model_0,999.pkl')\n",
    "model.load_state_dict(saved_state_dict)\n",
    "\n",
    "\n",
    "reg_criterion = nn.MSELoss().cuda(gpu)\n",
    "MAE = torch.nn.L1Loss(reduction='mean')\n",
    "\n",
    "softmax = nn.Softmax().cuda(gpu)\n",
    "idx_tensor = [idx for idx in range(66)]\n",
    "idx_tensor = Variable(torch.FloatTensor(idx_tensor)).cuda(gpu)\n",
    "\n",
    "\n",
    "model.cuda(gpu)\n",
    "\n",
    "# Test the Model\n",
    "model.eval()  # Change model to 'eval' mode (BN uses moving mean/var).\n",
    "\n",
    "\n",
    "print(\"done\")"
   ]
  },
  {
   "cell_type": "markdown",
   "metadata": {},
   "source": [
    "# SELECT OCCLUSION LEVEL (BIWI)"
   ]
  },
  {
   "cell_type": "code",
   "execution_count": 22,
   "metadata": {},
   "outputs": [
    {
     "name": "stdout",
     "output_type": "stream",
     "text": [
      "3430\n",
      "done\n"
     ]
    }
   ],
   "source": [
    "\n",
    "#select the directory of the occlusion level\n",
    "image_dir = natsort.natsorted(glob.glob('Occlusion Level Datasets\\BIWI_Spoon_Level1\\*.jpg'),reverse= False)\n",
    "#image_dir = natsort.natsorted(glob.glob('Occlusion Level Datasets\\BIWI_Spoon_Level2\\*.jpg'),reverse= False)\n",
    "#image_dir = natsort.natsorted(glob.glob('Occlusion Level Datasets\\BIWI_Spoon_Level3\\*.jpg'),reverse= False)\n",
    "#image_dir = natsort.natsorted(glob.glob('Occlusion Level Datasets\\BIWI_Spoon_Level4\\*.jpg'),reverse= False)\n",
    "#image_dir = natsort.natsorted(glob.glob('Occlusion Level Datasets\\BIWI_Spoon_Level5\\*.jpg'),reverse= False)\n",
    "#image_dir = natsort.natsorted(glob.glob('Occlusion Level Datasets\\BIWI_Spoon_Level6\\*.jpg'),reverse= False)\n",
    "\n",
    "\n",
    "pose_path = natsort.natsorted(glob.glob('datasets\\faces_biwi\\01\\*.txt'),reverse= False) + natsort.natsorted(glob.glob('datasets\\faces_biwi\\02\\*.txt'),reverse= False) + natsort.natsorted(glob.glob('datasets\\faces_biwi\\03\\*.txt'),reverse= False) + natsort.natsorted(glob.glob('datasets\\faces_biwi\\04\\*.txt'),reverse= False)+ natsort.natsorted(glob.glob('datasets\\faces_biwi\\05\\*.txt'),reverse= False)\n",
    "\n",
    "transformations = transforms.Compose([transforms.Resize(224), transforms.CenterCrop(224), transforms.ToTensor(),transforms.Normalize(mean=[0.485, 0.456, 0.406], std=[0.229, 0.224, 0.225])])\n",
    "\n",
    "\n",
    "biwi_test_dataset = datasets.new_BIWI(image_dir,pose_path, transformations)\n",
    "\n",
    "test_loader = torch.utils.data.DataLoader(dataset=biwi_test_dataset,\n",
    "                                               batch_size=1,\n",
    "                                               shuffle=False,\n",
    "                                               num_workers=0)#, pin_memory=True)\n",
    "print(len(image_dir))\n",
    "print(\"done\")\n"
   ]
  },
  {
   "cell_type": "markdown",
   "metadata": {},
   "source": [
    "# SELECT OCCLUSION LEVEL (AFLW2000)"
   ]
  },
  {
   "cell_type": "code",
   "execution_count": 55,
   "metadata": {},
   "outputs": [
    {
     "name": "stdout",
     "output_type": "stream",
     "text": [
      "2000\n"
     ]
    }
   ],
   "source": [
    "\n",
    "#select the directory of the occlusion level\n",
    "image_dir = natsort.natsorted(glob.glob('Occlusion Level Datasets\\AFLW_Spoon_Level1\\*.jpg'),reverse= False)\n",
    "#image_dir = natsort.natsorted(glob.glob('Occlusion Level Datasets\\AFLW_Spoon_Level2\\*.jpg'),reverse= False)\n",
    "#image_dir = natsort.natsorted(glob.glob('Occlusion Level Datasets\\AFLW_Spoon_Level3\\*.jpg'),reverse= False)\n",
    "#image_dir = natsort.natsorted(glob.glob('Occlusion Level Datasets\\AFLW_Spoon_Level4\\*.jpg'),reverse= False)\n",
    "#image_dir = natsort.natsorted(glob.glob('Occlusion Level Datasets\\AFLW_Spoon_Level5\\*.jpg'),reverse= False)\n",
    "#image_dir = natsort.natsorted(glob.glob('Occlusion Level Datasets\\AFLW_Spoon_Level6\\*.jpg'),reverse= False)\n",
    "\n",
    "pose_path = natsort.natsorted(glob.glob('datasets\\AFLW2000-3D\\AFLW2000\\*.mat'))\n",
    "\n",
    "transformations =  transforms.Compose([transforms.Resize(260), transforms.CenterCrop(224), transforms.ToTensor(),transforms.Normalize(mean=[0.485, 0.456, 0.406], std=[0.229, 0.224, 0.225])])\n",
    "\n",
    "test_dataset = datasets.new_Pose_AFLW2000(image_dir, pose_path, transformations)\n",
    "\n",
    "test_loader = torch.utils.data.DataLoader(dataset=test_dataset,batch_size=1,shuffle=False, num_workers=0)\n",
    "print(len(image_dir))"
   ]
  },
  {
   "cell_type": "markdown",
   "metadata": {},
   "source": [
    "# DATASET INFERENCE "
   ]
  },
  {
   "cell_type": "code",
   "execution_count": 56,
   "metadata": {},
   "outputs": [
    {
     "name": "stderr",
     "output_type": "stream",
     "text": [
      "C:\\Users\\zecar\\AppData\\Local\\Temp/ipykernel_32680/3554036656.py:38: UserWarning: Implicit dimension choice for softmax has been deprecated. Change the call to include dim=X as an argument.\n",
      "  yaw_predicted = softmax(yaw)#,dim = 1)\n",
      "C:\\Users\\zecar\\AppData\\Local\\Temp/ipykernel_32680/3554036656.py:39: UserWarning: Implicit dimension choice for softmax has been deprecated. Change the call to include dim=X as an argument.\n",
      "  pitch_predicted = softmax(pitch)#,dim = 1)\n",
      "C:\\Users\\zecar\\AppData\\Local\\Temp/ipykernel_32680/3554036656.py:40: UserWarning: Implicit dimension choice for softmax has been deprecated. Change the call to include dim=X as an argument.\n",
      "  roll_predicted = softmax(roll)#,dim =1)\n"
     ]
    },
    {
     "name": "stdout",
     "output_type": "stream",
     "text": [
      "0\n",
      "1000\n"
     ]
    }
   ],
   "source": [
    "MAE_HOPENET_y = np.array([])\n",
    "MAE_HOPENET_p = np.array([])\n",
    "MAE_HOPENET_r = np.array([])\n",
    "\n",
    "MAE_LATENT_y = np.array([])\n",
    "MAE_LATENT_p = np.array([])\n",
    "MAE_LATENT_r = np.array([])\n",
    "\n",
    "\n",
    "num_epochs = 1\n",
    "with torch.no_grad():\n",
    "    for i, (img, labels, cont_labels) in enumerate(test_loader):\n",
    "         \n",
    "        #print(i)\n",
    "\n",
    "        #img = transformations(img)\n",
    "        img = Variable(img).cuda(gpu)\n",
    "\n",
    "        label_yaw_cont = Variable(cont_labels[:,0]).cuda(gpu)\n",
    "        label_pitch_cont = Variable(cont_labels[:,1]).cuda(gpu)\n",
    "        label_roll_cont = Variable(cont_labels[:,2]).cuda(gpu)\n",
    "\n",
    "        if label_yaw_cont> abs(99) or label_pitch_cont> abs(99) or label_roll_cont > abs(99):\n",
    "            #print('Out of range')\n",
    "            continue\n",
    "\n",
    "\n",
    "\n",
    "        #MAE_HOPENET_y = torch.cat((MAE_HOPENET_y,err_y),dim = 0)\n",
    "        #MAE_HOPENET_p = torch.cat((MAE_HOPENET_p,err_p), dim = 0)\n",
    "        #MAE_HOPENET_r = torch.cat((MAE_HOPENET_r,err_r), dim = 0)\n",
    "\n",
    "\n",
    "        #print('Hopenet MAE Error (degrees): Yaw: %.4f, Pitch %.4f, Roll %.4f' %(err_y,err_p,err_r))\n",
    "\n",
    "        x, yaw, pitch, roll = model(img)\n",
    "\n",
    "        yaw_predicted = softmax(yaw)#,dim = 1)\n",
    "        pitch_predicted = softmax(pitch)#,dim = 1)\n",
    "        roll_predicted = softmax(roll)#,dim =1)\n",
    "\n",
    "        yaw_predicted = torch.sum(yaw_predicted * idx_tensor, 1) * 3 - 99\n",
    "        pitch_predicted = torch.sum(pitch_predicted * idx_tensor, 1) * 3 - 99\n",
    "        roll_predicted = torch.sum(roll_predicted * idx_tensor, 1) * 3 - 99\n",
    "\n",
    "        yaw_predicted = yaw_predicted.view(1)\n",
    "        pitch_predicted = pitch_predicted.view(1)\n",
    "        roll_predicted = roll_predicted.view(1)\n",
    "\n",
    "        #MSE    \n",
    "        loss_reg_yaw = reg_criterion(yaw_predicted, label_yaw_cont)\n",
    "        loss_reg_pitch = reg_criterion(pitch_predicted, label_pitch_cont)\n",
    "        loss_reg_roll = reg_criterion(roll_predicted, label_roll_cont)\n",
    "\n",
    "        err_y = MAE(yaw_predicted,label_yaw_cont)\n",
    "        err_p = MAE(pitch_predicted,label_pitch_cont)\n",
    "        err_r = MAE(roll_predicted,label_roll_cont)\n",
    "\n",
    "        MAE_LATENT_y = np.append(MAE_LATENT_y,err_y.cpu())\n",
    "        MAE_LATENT_p = np.append(MAE_LATENT_p,err_p.cpu())\n",
    "        MAE_LATENT_r = np.append(MAE_LATENT_r,err_r.cpu())\n",
    "\n",
    "        #MAE_LATENT_y = torch.cat((MAE_LATENT_y,err_y))\n",
    "        #MAE_LATENT_p = torch.cat((MAE_LATENT_p,err_p))\n",
    "        #MAE_LATENT_r = torch.cat((MAE_LATENT_r,err_r))\n",
    "\n",
    "               \n",
    "        #print('Latent Hopenet MAE Error (degrees): Yaw: %.4f, Pitch %.4f, Roll %.4f' %(err_y,err_p,err_r))\n",
    "        if (i%1000 == 0):\n",
    "            print(i)"
   ]
  },
  {
   "cell_type": "code",
   "execution_count": 8,
   "metadata": {},
   "outputs": [
    {
     "name": "stdout",
     "output_type": "stream",
     "text": [
      "BIWI LEVEL 1 \n",
      "MAE ERROR LATENT:\n",
      "Yaw:  4.622457237519954  Pitch:  5.413507101139591  Roll:  4.228339979873628\n"
     ]
    }
   ],
   "source": [
    "print('BIWI LEVEL 1 \\nMAE ERROR LATENT:\\nYaw: ',sum(MAE_LATENT_y)/len(MAE_LATENT_y), ' Pitch: ',sum(MAE_LATENT_p)/len(MAE_LATENT_p), ' Roll: ',sum(MAE_LATENT_r)/len(MAE_LATENT_r))"
   ]
  },
  {
   "cell_type": "code",
   "execution_count": 11,
   "metadata": {},
   "outputs": [
    {
     "name": "stdout",
     "output_type": "stream",
     "text": [
      "BIWI LEVEL 2 \n",
      "MAE ERROR LATENT:\n",
      "Yaw:  5.13736028301125  Pitch:  6.154801578493925  Roll:  4.3114318212163\n"
     ]
    }
   ],
   "source": [
    "print('BIWI LEVEL 2 \\nMAE ERROR LATENT:\\nYaw: ',sum(MAE_LATENT_y)/len(MAE_LATENT_y), ' Pitch: ',sum(MAE_LATENT_p)/len(MAE_LATENT_p), ' Roll: ',sum(MAE_LATENT_r)/len(MAE_LATENT_r))"
   ]
  },
  {
   "cell_type": "code",
   "execution_count": 14,
   "metadata": {},
   "outputs": [
    {
     "name": "stdout",
     "output_type": "stream",
     "text": [
      "BIWI LEVEL 3 \n",
      "MAE ERROR LATENT:\n",
      "Yaw:  5.49607838513031  Pitch:  6.837962038437062  Roll:  4.601720367723929\n"
     ]
    }
   ],
   "source": [
    "print('BIWI LEVEL 3 \\nMAE ERROR LATENT:\\nYaw: ',sum(MAE_LATENT_y)/len(MAE_LATENT_y), ' Pitch: ',sum(MAE_LATENT_p)/len(MAE_LATENT_p), ' Roll: ',sum(MAE_LATENT_r)/len(MAE_LATENT_r))"
   ]
  },
  {
   "cell_type": "code",
   "execution_count": 17,
   "metadata": {},
   "outputs": [
    {
     "name": "stdout",
     "output_type": "stream",
     "text": [
      "BIWI LEVEL 4 \n",
      "MAE ERROR LATENT:\n",
      "Yaw:  6.250750110871851  Pitch:  7.931898722695539  Roll:  5.325339020123982\n"
     ]
    }
   ],
   "source": [
    "print('BIWI LEVEL 4 \\nMAE ERROR LATENT:\\nYaw: ',sum(MAE_LATENT_y)/len(MAE_LATENT_y), ' Pitch: ',sum(MAE_LATENT_p)/len(MAE_LATENT_p), ' Roll: ',sum(MAE_LATENT_r)/len(MAE_LATENT_r))"
   ]
  },
  {
   "cell_type": "code",
   "execution_count": 21,
   "metadata": {},
   "outputs": [
    {
     "name": "stdout",
     "output_type": "stream",
     "text": [
      "BIWI LEVEL 5 \n",
      "MAE ERROR LATENT:\n",
      "Yaw:  8.914893236339266  Pitch:  9.330160919761518  Roll:  6.143780357444947\n"
     ]
    }
   ],
   "source": [
    "print('BIWI LEVEL 5 \\nMAE ERROR LATENT:\\nYaw: ',sum(MAE_LATENT_y)/len(MAE_LATENT_y), ' Pitch: ',sum(MAE_LATENT_p)/len(MAE_LATENT_p), ' Roll: ',sum(MAE_LATENT_r)/len(MAE_LATENT_r))"
   ]
  },
  {
   "cell_type": "code",
   "execution_count": 24,
   "metadata": {},
   "outputs": [
    {
     "name": "stdout",
     "output_type": "stream",
     "text": [
      "BIWI LEVEL 6 \n",
      "MAE ERROR LATENT:\n",
      "Yaw:  12.585493751439339  Pitch:  10.87914090610541  Roll:  6.860486295691124\n"
     ]
    }
   ],
   "source": [
    "print('BIWI LEVEL 6 \\nMAE ERROR LATENT:\\nYaw: ',sum(MAE_LATENT_y)/len(MAE_LATENT_y), ' Pitch: ',sum(MAE_LATENT_p)/len(MAE_LATENT_p), ' Roll: ',sum(MAE_LATENT_r)/len(MAE_LATENT_r))"
   ]
  },
  {
   "cell_type": "code",
   "execution_count": 36,
   "metadata": {},
   "outputs": [
    {
     "name": "stdout",
     "output_type": "stream",
     "text": [
      "AFLW2000 LEVEL 1 \n",
      "MAE ERROR LATENT:\n",
      "Yaw:  4.863469179249797  Pitch:  6.940394961674567  Roll:  5.547010047175178\n"
     ]
    }
   ],
   "source": [
    "print('AFLW2000 LEVEL 1 \\nMAE ERROR LATENT:\\nYaw: ',sum(MAE_LATENT_y)/len(MAE_LATENT_y), ' Pitch: ',sum(MAE_LATENT_p)/len(MAE_LATENT_p), ' Roll: ',sum(MAE_LATENT_r)/len(MAE_LATENT_r))"
   ]
  },
  {
   "cell_type": "code",
   "execution_count": 39,
   "metadata": {},
   "outputs": [
    {
     "name": "stdout",
     "output_type": "stream",
     "text": [
      "AFLW2000 LEVEL 2 \n",
      "MAE ERROR LATENT:\n",
      "Yaw:  5.211585467495212  Pitch:  7.171390464572625  Roll:  5.956587706118311\n"
     ]
    }
   ],
   "source": [
    "print('AFLW2000 LEVEL 2 \\nMAE ERROR LATENT:\\nYaw: ',sum(MAE_LATENT_y)/len(MAE_LATENT_y), ' Pitch: ',sum(MAE_LATENT_p)/len(MAE_LATENT_p), ' Roll: ',sum(MAE_LATENT_r)/len(MAE_LATENT_r))"
   ]
  },
  {
   "cell_type": "code",
   "execution_count": 42,
   "metadata": {},
   "outputs": [
    {
     "name": "stdout",
     "output_type": "stream",
     "text": [
      "AFLW2000 LEVEL 3 \n",
      "MAE ERROR LATENT:\n",
      "Yaw:  5.807954892365771  Pitch:  7.719538973108701  Roll:  6.529486330408381\n"
     ]
    }
   ],
   "source": [
    "print('AFLW2000 LEVEL 3 \\nMAE ERROR LATENT:\\nYaw: ',sum(MAE_LATENT_y)/len(MAE_LATENT_y), ' Pitch: ',sum(MAE_LATENT_p)/len(MAE_LATENT_p), ' Roll: ',sum(MAE_LATENT_r)/len(MAE_LATENT_r))"
   ]
  },
  {
   "cell_type": "code",
   "execution_count": 45,
   "metadata": {},
   "outputs": [
    {
     "name": "stdout",
     "output_type": "stream",
     "text": [
      "AFLW2000 LEVEL 4 \n",
      "MAE ERROR LATENT:\n",
      "Yaw:  7.019486891476045  Pitch:  8.126710024749716  Roll:  6.876676047448253\n"
     ]
    }
   ],
   "source": [
    "print('AFLW2000 LEVEL 4 \\nMAE ERROR LATENT:\\nYaw: ',sum(MAE_LATENT_y)/len(MAE_LATENT_y), ' Pitch: ',sum(MAE_LATENT_p)/len(MAE_LATENT_p), ' Roll: ',sum(MAE_LATENT_r)/len(MAE_LATENT_r))"
   ]
  },
  {
   "cell_type": "code",
   "execution_count": 48,
   "metadata": {},
   "outputs": [
    {
     "name": "stdout",
     "output_type": "stream",
     "text": [
      "AFLW2000 LEVEL 5 \n",
      "MAE ERROR LATENT:\n",
      "Yaw:  10.208621864572663  Pitch:  8.416134992849333  Roll:  7.624506690638096\n"
     ]
    }
   ],
   "source": [
    "print('AFLW2000 LEVEL 5 \\nMAE ERROR LATENT:\\nYaw: ',sum(MAE_LATENT_y)/len(MAE_LATENT_y), ' Pitch: ',sum(MAE_LATENT_p)/len(MAE_LATENT_p), ' Roll: ',sum(MAE_LATENT_r)/len(MAE_LATENT_r))"
   ]
  },
  {
   "cell_type": "code",
   "execution_count": 57,
   "metadata": {},
   "outputs": [
    {
     "name": "stdout",
     "output_type": "stream",
     "text": [
      "AFLW2000 LEVEL 6 \n",
      "MAE ERROR LATENT:\n",
      "Yaw:  12.908898147313614  Pitch:  8.843814961255108  Roll:  7.775184347541433\n"
     ]
    }
   ],
   "source": [
    "print('AFLW2000 LEVEL 6 \\nMAE ERROR LATENT:\\nYaw: ',sum(MAE_LATENT_y)/len(MAE_LATENT_y), ' Pitch: ',sum(MAE_LATENT_p)/len(MAE_LATENT_p), ' Roll: ',sum(MAE_LATENT_r)/len(MAE_LATENT_r))"
   ]
  },
 ],
 "metadata": {
  "kernelspec": {
   "display_name": "Python 3.9.4 64-bit",
   "language": "python",
   "name": "python3"
  },
  "language_info": {
   "codemirror_mode": {
    "name": "ipython",
    "version": 3
   },
   "file_extension": ".py",
   "mimetype": "text/x-python",
   "name": "python",
   "nbconvert_exporter": "python",
   "pygments_lexer": "ipython3",
   "version": "3.9.4"
  },
  "orig_nbformat": 4,
  "vscode": {
   "interpreter": {
    "hash": "b656e7a5427a8187cfadc7f7a5303afbaa9a05fff8d95051e844a826c0af12e2"
   }
  }
 },
 "nbformat": 4,
 "nbformat_minor": 2
}
